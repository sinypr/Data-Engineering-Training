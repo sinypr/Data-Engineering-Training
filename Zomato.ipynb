{
 "cells": [
  {
   "cell_type": "markdown",
   "id": "2fde928f",
   "metadata": {},
   "source": [
    "# Zomato \n",
    "\n",
    "By: Siny\n",
    "\n",
    "Date: 07/08/2022"
   ]
  },
  {
   "cell_type": "code",
   "execution_count": 1,
   "id": "acdacd4a",
   "metadata": {},
   "outputs": [],
   "source": [
    "import pandas as pd\n",
    "import numpy as np\n",
    "pd.set_option('display.max_columns', 500)\n",
    "# pd.set_option('display.max_rows', 500)"
   ]
  },
  {
   "cell_type": "markdown",
   "id": "a41ad81b",
   "metadata": {},
   "source": [
    "## Load Data"
   ]
  },
  {
   "cell_type": "code",
   "execution_count": 2,
   "id": "1856e18b",
   "metadata": {},
   "outputs": [],
   "source": [
    "zomato = pd.read_csv('data/zomato.csv', encoding='latin-1')\n",
    "country = pd.read_excel('data/Country-Code.xlsx')"
   ]
  },
  {
   "cell_type": "code",
   "execution_count": 3,
   "id": "2dc63378",
   "metadata": {},
   "outputs": [
    {
     "data": {
      "text/html": [
       "<div>\n",
       "<style scoped>\n",
       "    .dataframe tbody tr th:only-of-type {\n",
       "        vertical-align: middle;\n",
       "    }\n",
       "\n",
       "    .dataframe tbody tr th {\n",
       "        vertical-align: top;\n",
       "    }\n",
       "\n",
       "    .dataframe thead th {\n",
       "        text-align: right;\n",
       "    }\n",
       "</style>\n",
       "<table border=\"1\" class=\"dataframe\">\n",
       "  <thead>\n",
       "    <tr style=\"text-align: right;\">\n",
       "      <th></th>\n",
       "      <th>Restaurant ID</th>\n",
       "      <th>Restaurant Name</th>\n",
       "      <th>cc</th>\n",
       "      <th>City</th>\n",
       "      <th>Address</th>\n",
       "      <th>Locality</th>\n",
       "      <th>Locality Verbose</th>\n",
       "      <th>Longitude</th>\n",
       "      <th>Latitude</th>\n",
       "      <th>Cuisines</th>\n",
       "      <th>Average Cost for two</th>\n",
       "      <th>Currency</th>\n",
       "      <th>Has Table booking</th>\n",
       "      <th>Has Online delivery</th>\n",
       "      <th>Is delivering now</th>\n",
       "      <th>Switch to order menu</th>\n",
       "      <th>Price range</th>\n",
       "      <th>Aggregate rating</th>\n",
       "      <th>Rating color</th>\n",
       "      <th>Rating text</th>\n",
       "      <th>Votes</th>\n",
       "    </tr>\n",
       "  </thead>\n",
       "  <tbody>\n",
       "    <tr>\n",
       "      <th>0</th>\n",
       "      <td>6317637</td>\n",
       "      <td>Le Petit Souffle</td>\n",
       "      <td>162</td>\n",
       "      <td>Makati City</td>\n",
       "      <td>Third Floor, Century City Mall, Kalayaan Avenu...</td>\n",
       "      <td>Century City Mall, Poblacion, Makati City</td>\n",
       "      <td>Century City Mall, Poblacion, Makati City, Mak...</td>\n",
       "      <td>121.027535</td>\n",
       "      <td>14.565443</td>\n",
       "      <td>French, Japanese, Desserts</td>\n",
       "      <td>1100</td>\n",
       "      <td>Botswana Pula(P)</td>\n",
       "      <td>Yes</td>\n",
       "      <td>No</td>\n",
       "      <td>No</td>\n",
       "      <td>No</td>\n",
       "      <td>3</td>\n",
       "      <td>4.8</td>\n",
       "      <td>Dark Green</td>\n",
       "      <td>Excellent</td>\n",
       "      <td>314</td>\n",
       "    </tr>\n",
       "  </tbody>\n",
       "</table>\n",
       "</div>"
      ],
      "text/plain": [
       "   Restaurant ID   Restaurant Name   cc         City  \\\n",
       "0        6317637  Le Petit Souffle  162  Makati City   \n",
       "\n",
       "                                             Address  \\\n",
       "0  Third Floor, Century City Mall, Kalayaan Avenu...   \n",
       "\n",
       "                                    Locality  \\\n",
       "0  Century City Mall, Poblacion, Makati City   \n",
       "\n",
       "                                    Locality Verbose   Longitude   Latitude  \\\n",
       "0  Century City Mall, Poblacion, Makati City, Mak...  121.027535  14.565443   \n",
       "\n",
       "                     Cuisines  Average Cost for two          Currency  \\\n",
       "0  French, Japanese, Desserts                  1100  Botswana Pula(P)   \n",
       "\n",
       "  Has Table booking Has Online delivery Is delivering now  \\\n",
       "0               Yes                  No                No   \n",
       "\n",
       "  Switch to order menu  Price range  Aggregate rating Rating color  \\\n",
       "0                   No            3               4.8   Dark Green   \n",
       "\n",
       "  Rating text  Votes  \n",
       "0   Excellent    314  "
      ]
     },
     "execution_count": 3,
     "metadata": {},
     "output_type": "execute_result"
    }
   ],
   "source": [
    "zomato.head(1)"
   ]
  },
  {
   "cell_type": "code",
   "execution_count": 4,
   "id": "c807111a",
   "metadata": {},
   "outputs": [
    {
     "data": {
      "text/plain": [
       "Index(['Restaurant ID', 'Restaurant Name', 'cc', 'City', 'Address', 'Locality',\n",
       "       'Locality Verbose', 'Longitude', 'Latitude', 'Cuisines',\n",
       "       'Average Cost for two', 'Currency', 'Has Table booking',\n",
       "       'Has Online delivery', 'Is delivering now', 'Switch to order menu',\n",
       "       'Price range', 'Aggregate rating', 'Rating color', 'Rating text',\n",
       "       'Votes'],\n",
       "      dtype='object')"
      ]
     },
     "execution_count": 4,
     "metadata": {},
     "output_type": "execute_result"
    }
   ],
   "source": [
    "zomato.columns"
   ]
  },
  {
   "cell_type": "code",
   "execution_count": 5,
   "id": "d2797be9",
   "metadata": {},
   "outputs": [
    {
     "data": {
      "text/html": [
       "<div>\n",
       "<style scoped>\n",
       "    .dataframe tbody tr th:only-of-type {\n",
       "        vertical-align: middle;\n",
       "    }\n",
       "\n",
       "    .dataframe tbody tr th {\n",
       "        vertical-align: top;\n",
       "    }\n",
       "\n",
       "    .dataframe thead th {\n",
       "        text-align: right;\n",
       "    }\n",
       "</style>\n",
       "<table border=\"1\" class=\"dataframe\">\n",
       "  <thead>\n",
       "    <tr style=\"text-align: right;\">\n",
       "      <th></th>\n",
       "      <th>Country Code</th>\n",
       "      <th>Country</th>\n",
       "    </tr>\n",
       "  </thead>\n",
       "  <tbody>\n",
       "    <tr>\n",
       "      <th>0</th>\n",
       "      <td>1</td>\n",
       "      <td>India</td>\n",
       "    </tr>\n",
       "    <tr>\n",
       "      <th>1</th>\n",
       "      <td>14</td>\n",
       "      <td>Australia</td>\n",
       "    </tr>\n",
       "  </tbody>\n",
       "</table>\n",
       "</div>"
      ],
      "text/plain": [
       "   Country Code    Country\n",
       "0             1      India\n",
       "1            14  Australia"
      ]
     },
     "execution_count": 5,
     "metadata": {},
     "output_type": "execute_result"
    }
   ],
   "source": [
    "country.head(2)"
   ]
  },
  {
   "cell_type": "code",
   "execution_count": 6,
   "id": "5ba488cc",
   "metadata": {},
   "outputs": [
    {
     "name": "stdout",
     "output_type": "stream",
     "text": [
      "Zomato shape : (9551, 21) and Country shape: (15, 2)\n"
     ]
    }
   ],
   "source": [
    "print(f\"Zomato shape : {zomato.shape} and Country shape: {country.shape}\")"
   ]
  },
  {
   "cell_type": "code",
   "execution_count": 7,
   "id": "4f98318b",
   "metadata": {},
   "outputs": [
    {
     "data": {
      "text/html": [
       "<div>\n",
       "<style scoped>\n",
       "    .dataframe tbody tr th:only-of-type {\n",
       "        vertical-align: middle;\n",
       "    }\n",
       "\n",
       "    .dataframe tbody tr th {\n",
       "        vertical-align: top;\n",
       "    }\n",
       "\n",
       "    .dataframe thead th {\n",
       "        text-align: right;\n",
       "    }\n",
       "</style>\n",
       "<table border=\"1\" class=\"dataframe\">\n",
       "  <thead>\n",
       "    <tr style=\"text-align: right;\">\n",
       "      <th></th>\n",
       "      <th>Restaurant ID</th>\n",
       "      <th>Restaurant Name</th>\n",
       "      <th>cc</th>\n",
       "      <th>City</th>\n",
       "      <th>Address</th>\n",
       "      <th>Locality</th>\n",
       "      <th>Locality Verbose</th>\n",
       "      <th>Longitude</th>\n",
       "      <th>Latitude</th>\n",
       "      <th>Cuisines</th>\n",
       "      <th>Average Cost for two</th>\n",
       "      <th>Currency</th>\n",
       "      <th>Has Table booking</th>\n",
       "      <th>Has Online delivery</th>\n",
       "      <th>Is delivering now</th>\n",
       "      <th>Switch to order menu</th>\n",
       "      <th>Price range</th>\n",
       "      <th>Aggregate rating</th>\n",
       "      <th>Rating color</th>\n",
       "      <th>Rating text</th>\n",
       "      <th>Votes</th>\n",
       "      <th>Country</th>\n",
       "    </tr>\n",
       "  </thead>\n",
       "  <tbody>\n",
       "    <tr>\n",
       "      <th>0</th>\n",
       "      <td>6317637</td>\n",
       "      <td>Le Petit Souffle</td>\n",
       "      <td>162</td>\n",
       "      <td>Makati City</td>\n",
       "      <td>Third Floor, Century City Mall, Kalayaan Avenu...</td>\n",
       "      <td>Century City Mall, Poblacion, Makati City</td>\n",
       "      <td>Century City Mall, Poblacion, Makati City, Mak...</td>\n",
       "      <td>121.027535</td>\n",
       "      <td>14.565443</td>\n",
       "      <td>French, Japanese, Desserts</td>\n",
       "      <td>1100</td>\n",
       "      <td>Botswana Pula(P)</td>\n",
       "      <td>Yes</td>\n",
       "      <td>No</td>\n",
       "      <td>No</td>\n",
       "      <td>No</td>\n",
       "      <td>3</td>\n",
       "      <td>4.8</td>\n",
       "      <td>Dark Green</td>\n",
       "      <td>Excellent</td>\n",
       "      <td>314</td>\n",
       "      <td>Phillipines</td>\n",
       "    </tr>\n",
       "    <tr>\n",
       "      <th>1</th>\n",
       "      <td>6304287</td>\n",
       "      <td>Izakaya Kikufuji</td>\n",
       "      <td>162</td>\n",
       "      <td>Makati City</td>\n",
       "      <td>Little Tokyo, 2277 Chino Roces Avenue, Legaspi...</td>\n",
       "      <td>Little Tokyo, Legaspi Village, Makati City</td>\n",
       "      <td>Little Tokyo, Legaspi Village, Makati City, Ma...</td>\n",
       "      <td>121.014101</td>\n",
       "      <td>14.553708</td>\n",
       "      <td>Japanese</td>\n",
       "      <td>1200</td>\n",
       "      <td>Botswana Pula(P)</td>\n",
       "      <td>Yes</td>\n",
       "      <td>No</td>\n",
       "      <td>No</td>\n",
       "      <td>No</td>\n",
       "      <td>3</td>\n",
       "      <td>4.5</td>\n",
       "      <td>Dark Green</td>\n",
       "      <td>Excellent</td>\n",
       "      <td>591</td>\n",
       "      <td>Phillipines</td>\n",
       "    </tr>\n",
       "    <tr>\n",
       "      <th>2</th>\n",
       "      <td>6300002</td>\n",
       "      <td>Heat - Edsa Shangri-La</td>\n",
       "      <td>162</td>\n",
       "      <td>Mandaluyong City</td>\n",
       "      <td>Edsa Shangri-La, 1 Garden Way, Ortigas, Mandal...</td>\n",
       "      <td>Edsa Shangri-La, Ortigas, Mandaluyong City</td>\n",
       "      <td>Edsa Shangri-La, Ortigas, Mandaluyong City, Ma...</td>\n",
       "      <td>121.056831</td>\n",
       "      <td>14.581404</td>\n",
       "      <td>Seafood, Asian, Filipino, Indian</td>\n",
       "      <td>4000</td>\n",
       "      <td>Botswana Pula(P)</td>\n",
       "      <td>Yes</td>\n",
       "      <td>No</td>\n",
       "      <td>No</td>\n",
       "      <td>No</td>\n",
       "      <td>4</td>\n",
       "      <td>4.4</td>\n",
       "      <td>Green</td>\n",
       "      <td>Very Good</td>\n",
       "      <td>270</td>\n",
       "      <td>Phillipines</td>\n",
       "    </tr>\n",
       "    <tr>\n",
       "      <th>3</th>\n",
       "      <td>6318506</td>\n",
       "      <td>Ooma</td>\n",
       "      <td>162</td>\n",
       "      <td>Mandaluyong City</td>\n",
       "      <td>Third Floor, Mega Fashion Hall, SM Megamall, O...</td>\n",
       "      <td>SM Megamall, Ortigas, Mandaluyong City</td>\n",
       "      <td>SM Megamall, Ortigas, Mandaluyong City, Mandal...</td>\n",
       "      <td>121.056475</td>\n",
       "      <td>14.585318</td>\n",
       "      <td>Japanese, Sushi</td>\n",
       "      <td>1500</td>\n",
       "      <td>Botswana Pula(P)</td>\n",
       "      <td>No</td>\n",
       "      <td>No</td>\n",
       "      <td>No</td>\n",
       "      <td>No</td>\n",
       "      <td>4</td>\n",
       "      <td>4.9</td>\n",
       "      <td>Dark Green</td>\n",
       "      <td>Excellent</td>\n",
       "      <td>365</td>\n",
       "      <td>Phillipines</td>\n",
       "    </tr>\n",
       "    <tr>\n",
       "      <th>4</th>\n",
       "      <td>6314302</td>\n",
       "      <td>Sambo Kojin</td>\n",
       "      <td>162</td>\n",
       "      <td>Mandaluyong City</td>\n",
       "      <td>Third Floor, Mega Atrium, SM Megamall, Ortigas...</td>\n",
       "      <td>SM Megamall, Ortigas, Mandaluyong City</td>\n",
       "      <td>SM Megamall, Ortigas, Mandaluyong City, Mandal...</td>\n",
       "      <td>121.057508</td>\n",
       "      <td>14.584450</td>\n",
       "      <td>Japanese, Korean</td>\n",
       "      <td>1500</td>\n",
       "      <td>Botswana Pula(P)</td>\n",
       "      <td>Yes</td>\n",
       "      <td>No</td>\n",
       "      <td>No</td>\n",
       "      <td>No</td>\n",
       "      <td>4</td>\n",
       "      <td>4.8</td>\n",
       "      <td>Dark Green</td>\n",
       "      <td>Excellent</td>\n",
       "      <td>229</td>\n",
       "      <td>Phillipines</td>\n",
       "    </tr>\n",
       "  </tbody>\n",
       "</table>\n",
       "</div>"
      ],
      "text/plain": [
       "   Restaurant ID         Restaurant Name   cc              City  \\\n",
       "0        6317637        Le Petit Souffle  162       Makati City   \n",
       "1        6304287        Izakaya Kikufuji  162       Makati City   \n",
       "2        6300002  Heat - Edsa Shangri-La  162  Mandaluyong City   \n",
       "3        6318506                    Ooma  162  Mandaluyong City   \n",
       "4        6314302             Sambo Kojin  162  Mandaluyong City   \n",
       "\n",
       "                                             Address  \\\n",
       "0  Third Floor, Century City Mall, Kalayaan Avenu...   \n",
       "1  Little Tokyo, 2277 Chino Roces Avenue, Legaspi...   \n",
       "2  Edsa Shangri-La, 1 Garden Way, Ortigas, Mandal...   \n",
       "3  Third Floor, Mega Fashion Hall, SM Megamall, O...   \n",
       "4  Third Floor, Mega Atrium, SM Megamall, Ortigas...   \n",
       "\n",
       "                                     Locality  \\\n",
       "0   Century City Mall, Poblacion, Makati City   \n",
       "1  Little Tokyo, Legaspi Village, Makati City   \n",
       "2  Edsa Shangri-La, Ortigas, Mandaluyong City   \n",
       "3      SM Megamall, Ortigas, Mandaluyong City   \n",
       "4      SM Megamall, Ortigas, Mandaluyong City   \n",
       "\n",
       "                                    Locality Verbose   Longitude   Latitude  \\\n",
       "0  Century City Mall, Poblacion, Makati City, Mak...  121.027535  14.565443   \n",
       "1  Little Tokyo, Legaspi Village, Makati City, Ma...  121.014101  14.553708   \n",
       "2  Edsa Shangri-La, Ortigas, Mandaluyong City, Ma...  121.056831  14.581404   \n",
       "3  SM Megamall, Ortigas, Mandaluyong City, Mandal...  121.056475  14.585318   \n",
       "4  SM Megamall, Ortigas, Mandaluyong City, Mandal...  121.057508  14.584450   \n",
       "\n",
       "                           Cuisines  Average Cost for two          Currency  \\\n",
       "0        French, Japanese, Desserts                  1100  Botswana Pula(P)   \n",
       "1                          Japanese                  1200  Botswana Pula(P)   \n",
       "2  Seafood, Asian, Filipino, Indian                  4000  Botswana Pula(P)   \n",
       "3                   Japanese, Sushi                  1500  Botswana Pula(P)   \n",
       "4                  Japanese, Korean                  1500  Botswana Pula(P)   \n",
       "\n",
       "  Has Table booking Has Online delivery Is delivering now  \\\n",
       "0               Yes                  No                No   \n",
       "1               Yes                  No                No   \n",
       "2               Yes                  No                No   \n",
       "3                No                  No                No   \n",
       "4               Yes                  No                No   \n",
       "\n",
       "  Switch to order menu  Price range  Aggregate rating Rating color  \\\n",
       "0                   No            3               4.8   Dark Green   \n",
       "1                   No            3               4.5   Dark Green   \n",
       "2                   No            4               4.4        Green   \n",
       "3                   No            4               4.9   Dark Green   \n",
       "4                   No            4               4.8   Dark Green   \n",
       "\n",
       "  Rating text  Votes      Country  \n",
       "0   Excellent    314  Phillipines  \n",
       "1   Excellent    591  Phillipines  \n",
       "2   Very Good    270  Phillipines  \n",
       "3   Excellent    365  Phillipines  \n",
       "4   Excellent    229  Phillipines  "
      ]
     },
     "execution_count": 7,
     "metadata": {},
     "output_type": "execute_result"
    }
   ],
   "source": [
    "zomato_country = pd.merge(zomato, country, how='left', left_on ='cc', right_on='Country Code')\n",
    "zomato_country.drop(['Country Code'], axis=1, inplace=True)\n",
    "zomato_country.head(5)"
   ]
  },
  {
   "cell_type": "code",
   "execution_count": 8,
   "id": "c002d2aa",
   "metadata": {},
   "outputs": [
    {
     "name": "stdout",
     "output_type": "stream",
     "text": [
      "Shape of merged data is (9551, 22)\n"
     ]
    }
   ],
   "source": [
    "print(f\"Shape of merged data is {zomato_country.shape}\")"
   ]
  },
  {
   "cell_type": "code",
   "execution_count": 9,
   "id": "0a037635",
   "metadata": {},
   "outputs": [
    {
     "data": {
      "text/plain": [
       "Index(['Restaurant ID', 'Restaurant Name', 'cc', 'City', 'Address', 'Locality',\n",
       "       'Locality Verbose', 'Longitude', 'Latitude', 'Cuisines',\n",
       "       'Average Cost for two', 'Currency', 'Has Table booking',\n",
       "       'Has Online delivery', 'Is delivering now', 'Switch to order menu',\n",
       "       'Price range', 'Aggregate rating', 'Rating color', 'Rating text',\n",
       "       'Votes', 'Country'],\n",
       "      dtype='object')"
      ]
     },
     "execution_count": 9,
     "metadata": {},
     "output_type": "execute_result"
    }
   ],
   "source": [
    "zomato_country.columns"
   ]
  },
  {
   "cell_type": "markdown",
   "id": "6129899a",
   "metadata": {},
   "source": [
    "## Questions"
   ]
  },
  {
   "cell_type": "markdown",
   "id": "1137bf1e",
   "metadata": {},
   "source": [
    "1. Which restaurant has the largest number of votes from the customer"
   ]
  },
  {
   "cell_type": "code",
   "execution_count": 10,
   "id": "3b0e0231",
   "metadata": {},
   "outputs": [
    {
     "name": "stdout",
     "output_type": "stream",
     "text": [
      "['Toit'] has the largest votes\n"
     ]
    }
   ],
   "source": [
    "print(f\"{zomato_country[zomato_country.Votes == max(zomato_country.Votes)]['Restaurant Name'].values} has the largest votes\")"
   ]
  },
  {
   "cell_type": "markdown",
   "id": "66954dae",
   "metadata": {},
   "source": [
    "2. Which city has more number of poor and not rated rating than very good rating in each country?"
   ]
  },
  {
   "cell_type": "code",
   "execution_count": 11,
   "id": "156df67f",
   "metadata": {},
   "outputs": [
    {
     "data": {
      "text/plain": [
       "array(['Excellent', 'Very Good', 'Good', 'Average', 'Not rated', 'Poor'],\n",
       "      dtype=object)"
      ]
     },
     "execution_count": 11,
     "metadata": {},
     "output_type": "execute_result"
    }
   ],
   "source": [
    "zomato_country['Rating text'].unique()"
   ]
  },
  {
   "cell_type": "code",
   "execution_count": 12,
   "id": "3183e4ee",
   "metadata": {},
   "outputs": [],
   "source": [
    "# Create dataframe with 'Rating text' which are 'Poor' or 'Very Good' or 'Not Rated'\n",
    "z_rating = zomato_country.loc[(zomato_country['Rating text'] == 'Poor') | \n",
    "                   (zomato_country['Rating text'] == 'Not rated') |\n",
    "                  (zomato_country['Rating text'] == 'Very Good')]"
   ]
  },
  {
   "cell_type": "code",
   "execution_count": 13,
   "id": "83dccadc",
   "metadata": {},
   "outputs": [],
   "source": [
    "# group the data with country, city and ratings\n",
    "z_rating = pd.crosstab([z_rating.Country, z_rating.City], z_rating['Rating text'])"
   ]
  },
  {
   "cell_type": "code",
   "execution_count": 14,
   "id": "533a79df",
   "metadata": {},
   "outputs": [],
   "source": [
    "# Created new column with the sum of Poor and not rated counts and droped the old columns\n",
    "z_rating['Poor/Not Rated'] = z_rating['Poor'] + z_rating['Not rated']\n",
    "z_rating.drop(['Poor', 'Not rated'], axis=1, inplace=True)\n"
   ]
  },
  {
   "cell_type": "markdown",
   "id": "bb9776ff",
   "metadata": {},
   "source": [
    "The cities with more number of poor and not rated rating than very good rating in each country are displayed below"
   ]
  },
  {
   "cell_type": "code",
   "execution_count": 15,
   "id": "f78d4601",
   "metadata": {},
   "outputs": [
    {
     "data": {
      "text/html": [
       "<div>\n",
       "<style scoped>\n",
       "    .dataframe tbody tr th:only-of-type {\n",
       "        vertical-align: middle;\n",
       "    }\n",
       "\n",
       "    .dataframe tbody tr th {\n",
       "        vertical-align: top;\n",
       "    }\n",
       "\n",
       "    .dataframe thead th {\n",
       "        text-align: right;\n",
       "    }\n",
       "</style>\n",
       "<table border=\"1\" class=\"dataframe\">\n",
       "  <thead>\n",
       "    <tr style=\"text-align: right;\">\n",
       "      <th></th>\n",
       "      <th>Rating text</th>\n",
       "      <th>Very Good</th>\n",
       "      <th>Poor/Not Rated</th>\n",
       "    </tr>\n",
       "    <tr>\n",
       "      <th>Country</th>\n",
       "      <th>City</th>\n",
       "      <th></th>\n",
       "      <th></th>\n",
       "    </tr>\n",
       "  </thead>\n",
       "  <tbody>\n",
       "    <tr>\n",
       "      <th>Australia</th>\n",
       "      <th>Montville</th>\n",
       "      <td>0</td>\n",
       "      <td>1</td>\n",
       "    </tr>\n",
       "    <tr>\n",
       "      <th rowspan=\"5\" valign=\"top\">India</th>\n",
       "      <th>Faridabad</th>\n",
       "      <td>3</td>\n",
       "      <td>102</td>\n",
       "    </tr>\n",
       "    <tr>\n",
       "      <th>Ghaziabad</th>\n",
       "      <td>0</td>\n",
       "      <td>3</td>\n",
       "    </tr>\n",
       "    <tr>\n",
       "      <th>Gurgaon</th>\n",
       "      <td>83</td>\n",
       "      <td>262</td>\n",
       "    </tr>\n",
       "    <tr>\n",
       "      <th>New Delhi</th>\n",
       "      <td>300</td>\n",
       "      <td>1522</td>\n",
       "    </tr>\n",
       "    <tr>\n",
       "      <th>Noida</th>\n",
       "      <td>27</td>\n",
       "      <td>429</td>\n",
       "    </tr>\n",
       "    <tr>\n",
       "      <th>United States</th>\n",
       "      <th>Mc Millan</th>\n",
       "      <td>0</td>\n",
       "      <td>1</td>\n",
       "    </tr>\n",
       "  </tbody>\n",
       "</table>\n",
       "</div>"
      ],
      "text/plain": [
       "Rating text              Very Good  Poor/Not Rated\n",
       "Country       City                                \n",
       "Australia     Montville          0               1\n",
       "India         Faridabad          3             102\n",
       "              Ghaziabad          0               3\n",
       "              Gurgaon           83             262\n",
       "              New Delhi        300            1522\n",
       "              Noida             27             429\n",
       "United States Mc Millan          0               1"
      ]
     },
     "execution_count": 15,
     "metadata": {},
     "output_type": "execute_result"
    }
   ],
   "source": [
    "z_rating[z_rating['Poor/Not Rated'] > z_rating['Very Good']]"
   ]
  },
  {
   "cell_type": "code",
   "execution_count": null,
   "id": "a932b119",
   "metadata": {},
   "outputs": [],
   "source": []
  },
  {
   "cell_type": "markdown",
   "id": "36832678",
   "metadata": {},
   "source": [
    "3. Which city is costliest in each country? ( Assume all the currency are of same value)"
   ]
  },
  {
   "cell_type": "code",
   "execution_count": 16,
   "id": "910e486c",
   "metadata": {},
   "outputs": [],
   "source": [
    "g = zomato_country.groupby(['Country'])"
   ]
  },
  {
   "cell_type": "code",
   "execution_count": 17,
   "id": "330d6089",
   "metadata": {},
   "outputs": [
    {
     "name": "stdout",
     "output_type": "stream",
     "text": [
      "Australia : Paynesville\n",
      "Brazil : Sí£o Paulo\n",
      "Canada : Vineland Station\n",
      "India : Panchkula\n",
      "Indonesia : Bandung\n",
      "New Zealand : Wellington City\n",
      "Phillipines : Pasay City\n",
      "Qatar : Doha\n",
      "Singapore : Singapore\n",
      "South Africa : Inner City\n",
      "Sri Lanka : Colombo\n",
      "Turkey : ÛÁstanbul\n",
      "UAE : Abu Dhabi\n",
      "United Kingdom : London\n",
      "United States : Princeton\n"
     ]
    }
   ],
   "source": [
    "for countryname , df in g:\n",
    "    print(f\"{countryname} : {df.groupby('City')['Price range'].mean().idxmax()}\")"
   ]
  },
  {
   "cell_type": "code",
   "execution_count": null,
   "id": "0b1dd6fc",
   "metadata": {},
   "outputs": [],
   "source": []
  },
  {
   "cell_type": "code",
   "execution_count": null,
   "id": "1da77e2a",
   "metadata": {},
   "outputs": [],
   "source": []
  },
  {
   "cell_type": "markdown",
   "id": "27df5c34",
   "metadata": {},
   "source": [
    "4. In india how many restaurants are present in each locality?"
   ]
  },
  {
   "cell_type": "code",
   "execution_count": 18,
   "id": "18894f44",
   "metadata": {},
   "outputs": [],
   "source": [
    "#Restaurants in India\n",
    "rest_india = zomato_country[zomato_country.Country == 'India']"
   ]
  },
  {
   "cell_type": "markdown",
   "id": "e16b2f2c",
   "metadata": {},
   "source": [
    "The restaurant by locality is:"
   ]
  },
  {
   "cell_type": "code",
   "execution_count": 19,
   "id": "debd572b",
   "metadata": {},
   "outputs": [
    {
     "data": {
      "text/plain": [
       "Locality\n",
       " ILD Trade Centre Mall, Sohna Road      2\n",
       "12th Square Building, Banjara Hills     1\n",
       "A Hotel, Gurdev Nagar                   1\n",
       "ARSS Mall, Paschim Vihar                1\n",
       "Aaya Nagar                              1\n",
       "Acropolis Mall, Kasba                   2\n",
       "Adajan Gam                              3\n",
       "Adchini                                13\n",
       "Aditya Mega Mall, Karkardooma           4\n",
       "Adyar                                   1\n",
       "Name: Restaurant ID, dtype: int64"
      ]
     },
     "execution_count": 19,
     "metadata": {},
     "output_type": "execute_result"
    }
   ],
   "source": [
    "loc_rest_count_india = rest_india.groupby('Locality')['Restaurant ID'].count()\n",
    "loc_rest_count_india.head(10)"
   ]
  },
  {
   "cell_type": "markdown",
   "id": "ab8e7e2f",
   "metadata": {},
   "source": [
    "Let us confirm if 'Adchini' has 13 restaurants as shown above"
   ]
  },
  {
   "cell_type": "code",
   "execution_count": 20,
   "id": "77031f68",
   "metadata": {},
   "outputs": [
    {
     "name": "stdout",
     "output_type": "stream",
     "text": [
      "This confirms that Adchini has 13 restaurants\n"
     ]
    }
   ],
   "source": [
    "print(f\"This confirms that Adchini has {rest_india[rest_india.Locality == 'Adchini'].shape[0]} restaurants\")"
   ]
  },
  {
   "cell_type": "markdown",
   "id": "1cd8f3bf",
   "metadata": {},
   "source": [
    "5. Which city has the most number of restaurants in each country?"
   ]
  },
  {
   "cell_type": "code",
   "execution_count": 21,
   "id": "fa27e8e4",
   "metadata": {},
   "outputs": [
    {
     "name": "stdout",
     "output_type": "stream",
     "text": [
      "Australia: Hepburn Springs\n",
      "Brazil: Brasí_lia\n",
      "Canada: Chatham-Kent\n",
      "India: New Delhi\n",
      "Indonesia: Jakarta\n",
      "New Zealand: Auckland\n",
      "Phillipines: Mandaluyong City\n",
      "Qatar: Doha\n",
      "Singapore: Singapore\n",
      "South Africa: Cape Town\n",
      "Sri Lanka: Colombo\n",
      "Turkey: Ankara\n",
      "UAE: Abu Dhabi\n",
      "United Kingdom: Birmingham\n",
      "United States: Albany\n"
     ]
    }
   ],
   "source": [
    "# the variable g is data grouped by country\n",
    "for countryname, df in g:\n",
    "    print(f\"{countryname}: {df.groupby('City')['Restaurant ID'].count().idxmax()}\")"
   ]
  },
  {
   "cell_type": "code",
   "execution_count": null,
   "id": "d7be1a02",
   "metadata": {},
   "outputs": [],
   "source": []
  },
  {
   "cell_type": "markdown",
   "id": "f697642a",
   "metadata": {},
   "source": [
    "6. Which franchise has the highest number of Restaurants?"
   ]
  },
  {
   "cell_type": "code",
   "execution_count": 22,
   "id": "47815c24",
   "metadata": {},
   "outputs": [
    {
     "data": {
      "text/plain": [
       "Index(['Restaurant ID', 'Restaurant Name', 'cc', 'City', 'Address', 'Locality',\n",
       "       'Locality Verbose', 'Longitude', 'Latitude', 'Cuisines',\n",
       "       'Average Cost for two', 'Currency', 'Has Table booking',\n",
       "       'Has Online delivery', 'Is delivering now', 'Switch to order menu',\n",
       "       'Price range', 'Aggregate rating', 'Rating color', 'Rating text',\n",
       "       'Votes', 'Country'],\n",
       "      dtype='object')"
      ]
     },
     "execution_count": 22,
     "metadata": {},
     "output_type": "execute_result"
    }
   ],
   "source": [
    "zomato_country.columns"
   ]
  },
  {
   "cell_type": "code",
   "execution_count": 23,
   "id": "557e1cbe",
   "metadata": {},
   "outputs": [
    {
     "data": {
      "text/plain": [
       "Restaurant Name\n",
       "Cafe Coffee Day                            83\n",
       "Domino's Pizza                             79\n",
       "Subway                                     63\n",
       "Green Chick Chop                           51\n",
       "McDonald's                                 48\n",
       "                                           ..\n",
       "Ghungroo Club & Bar - By Gautam Gambhir     1\n",
       "Ghar Ki Handi                               1\n",
       "Ghar Ka Swad                                1\n",
       "Ghar Bistro Cafe                            1\n",
       "íukuraÛôa SofrasÛ±                         1\n",
       "Name: Restaurant ID, Length: 7446, dtype: int64"
      ]
     },
     "execution_count": 23,
     "metadata": {},
     "output_type": "execute_result"
    }
   ],
   "source": [
    "zomato_country.groupby('Restaurant Name')['Restaurant ID'].count().sort_values(ascending=False)"
   ]
  },
  {
   "cell_type": "code",
   "execution_count": 24,
   "id": "aac4d778",
   "metadata": {},
   "outputs": [
    {
     "name": "stdout",
     "output_type": "stream",
     "text": [
      "'Cafe Coffee Day' has the highest number of restaurants\n"
     ]
    }
   ],
   "source": [
    "print(f\"'{zomato_country.groupby('Restaurant Name')['Restaurant ID'].count().idxmax()}' has the highest number of restaurants\")"
   ]
  },
  {
   "cell_type": "markdown",
   "id": "08cbbfab",
   "metadata": {},
   "source": [
    "7. How many Restaurants are accepting online orders?"
   ]
  },
  {
   "cell_type": "code",
   "execution_count": 25,
   "id": "4eea7d60",
   "metadata": {},
   "outputs": [
    {
     "name": "stdout",
     "output_type": "stream",
     "text": [
      "2451 restaurants accepts online orders\n"
     ]
    }
   ],
   "source": [
    "print(f\"{zomato_country[zomato_country['Has Online delivery'] == 'Yes']['Restaurant ID'].count()} restaurants accepts online orders\")"
   ]
  },
  {
   "cell_type": "markdown",
   "id": "49df5820",
   "metadata": {},
   "source": [
    "8. How many have a book table facility?"
   ]
  },
  {
   "cell_type": "code",
   "execution_count": 26,
   "id": "b5d75c08",
   "metadata": {},
   "outputs": [
    {
     "name": "stdout",
     "output_type": "stream",
     "text": [
      "1158 restaurants have book table facility\n"
     ]
    }
   ],
   "source": [
    "print(f\"{zomato_country[zomato_country['Has Table booking'] == 'Yes']['Restaurant ID'].count()} restaurants have book table facility\")"
   ]
  },
  {
   "cell_type": "markdown",
   "id": "22c2a22f",
   "metadata": {},
   "source": [
    "9. Which location has the highest number of Restaurants?"
   ]
  },
  {
   "cell_type": "code",
   "execution_count": 27,
   "id": "dd7f80a1",
   "metadata": {},
   "outputs": [
    {
     "name": "stdout",
     "output_type": "stream",
     "text": [
      "'Connaught Place' has the highest number of restaurants\n"
     ]
    }
   ],
   "source": [
    "print(f\"'{zomato_country.groupby('Locality')['Restaurant ID'].count().idxmax()}' has the highest number of restaurants\")"
   ]
  },
  {
   "cell_type": "markdown",
   "id": "bac3ac1d",
   "metadata": {},
   "source": [
    "10. How many types of Restaurant are there?"
   ]
  },
  {
   "cell_type": "code",
   "execution_count": 28,
   "id": "409b3983",
   "metadata": {
    "scrolled": true
   },
   "outputs": [
    {
     "name": "stdout",
     "output_type": "stream",
     "text": [
      "There are 1825 types of restaurants\n"
     ]
    }
   ],
   "source": [
    "print(f\"There are {zomato_country.Cuisines.nunique()} types of restaurants\")"
   ]
  },
  {
   "cell_type": "markdown",
   "id": "14440e7e",
   "metadata": {},
   "source": [
    "11. What is the most liked Restaurant?"
   ]
  },
  {
   "cell_type": "code",
   "execution_count": 29,
   "id": "7d6a1520",
   "metadata": {},
   "outputs": [
    {
     "data": {
      "text/plain": [
       "'Barbeque Nation'"
      ]
     },
     "execution_count": 29,
     "metadata": {},
     "output_type": "execute_result"
    }
   ],
   "source": [
    "zomato_country.groupby('Restaurant Name')['Votes'].sum().idxmax()"
   ]
  },
  {
   "cell_type": "markdown",
   "id": "56feab05",
   "metadata": {},
   "source": [
    "12. What is the Average cost for 2 persons in each city?"
   ]
  },
  {
   "cell_type": "code",
   "execution_count": 32,
   "id": "00ef8f74",
   "metadata": {
    "scrolled": false
   },
   "outputs": [
    {
     "data": {
      "text/plain": [
       "Country         City                  \n",
       "Australia       Armidale                      20.000000\n",
       "                Balingup                      20.000000\n",
       "                Beechworth                    20.000000\n",
       "                Dicky Beach                    7.000000\n",
       "                East Ballina                  20.000000\n",
       "                Flaxton                       30.000000\n",
       "                Forrest                       20.000000\n",
       "                Hepburn Springs               13.500000\n",
       "                Huskisson                     20.000000\n",
       "                Inverloch                      7.000000\n",
       "                Lakes Entrance                 7.000000\n",
       "                Lorn                          20.000000\n",
       "                Macedon                       20.000000\n",
       "                Mayfield                      20.000000\n",
       "                Middleton Beach               30.000000\n",
       "                Montville                     30.000000\n",
       "                Palm Cove                     30.000000\n",
       "                Paynesville                  120.000000\n",
       "                Penola                        20.000000\n",
       "                Phillip Island                20.000000\n",
       "                Tanunda                       30.000000\n",
       "                Trentham East                 20.000000\n",
       "                Victor Harbor                 20.000000\n",
       "Brazil          Brasí_lia                    120.000000\n",
       "                Rio de Janeiro               126.750000\n",
       "                Sí£o Paulo                   157.250000\n",
       "Canada          Chatham-Kent                  25.000000\n",
       "                Consort                       25.000000\n",
       "                Vineland Station              70.000000\n",
       "                Yorkton                       25.000000\n",
       "India           Agra                        1065.000000\n",
       "                Ahmedabad                    857.142857\n",
       "                Allahabad                    517.500000\n",
       "                Amritsar                     480.952381\n",
       "                Aurangabad                   622.500000\n",
       "                Bangalore                   1232.500000\n",
       "                Bhopal                       620.000000\n",
       "                Bhubaneshwar                 678.571429\n",
       "                Chandigarh                  1072.222222\n",
       "                Chennai                     1085.000000\n",
       "                Coimbatore                   782.500000\n",
       "                Dehradun                     727.500000\n",
       "                Faridabad                    447.609562\n",
       "                Ghaziabad                    602.000000\n",
       "                Goa                         1175.000000\n",
       "                Gurgaon                      714.016100\n",
       "                Guwahati                     821.428571\n",
       "                Hyderabad                   1361.111111\n",
       "                Indore                       960.000000\n",
       "                Jaipur                      1310.000000\n",
       "                Kanpur                       915.000000\n",
       "                Kochi                        730.000000\n",
       "                Kolkata                     1272.500000\n",
       "                Lucknow                      859.523810\n",
       "                Ludhiana                    1160.000000\n",
       "                Mangalore                    782.500000\n",
       "                Mohali                       550.000000\n",
       "                Mumbai                      1072.500000\n",
       "                Mysore                       814.500000\n",
       "                Nagpur                       715.000000\n",
       "                Nashik                       662.500000\n",
       "                New Delhi                    596.088069\n",
       "                Noida                        539.490741\n",
       "                Panchkula                   2000.000000\n",
       "                Patna                        797.500000\n",
       "                Puducherry                   842.500000\n",
       "                Pune                        1337.500000\n",
       "                Ranchi                       735.000000\n",
       "                Secunderabad                 825.000000\n",
       "                Surat                        812.500000\n",
       "                Vadodara                     820.000000\n",
       "                Varanasi                     505.000000\n",
       "                Vizag                        780.000000\n",
       "Indonesia       Bandung                   150000.000000\n",
       "                Bogor                     160000.000000\n",
       "                Jakarta                   308437.500000\n",
       "                Tangerang                 250000.000000\n",
       "New Zealand     Auckland                      68.250000\n",
       "                Wellington City               71.250000\n",
       "Phillipines     Makati City                 1150.000000\n",
       "                Mandaluyong City            2000.000000\n",
       "                Pasay City                  3333.333333\n",
       "                Pasig City                   933.333333\n",
       "                Quezon City                  800.000000\n",
       "                San Juan City                850.000000\n",
       "                Santa Rosa                   825.000000\n",
       "                Tagaytay City               1200.000000\n",
       "                Taguig City                 1725.000000\n",
       "Qatar           Doha                         223.750000\n",
       "Singapore       Singapore                    155.750000\n",
       "South Africa    Cape Town                    297.200000\n",
       "                Inner City                  1120.000000\n",
       "                Johannesburg                 470.000000\n",
       "                Pretoria                     492.250000\n",
       "                Randburg                     200.000000\n",
       "                Sandton                      375.909091\n",
       "Sri Lanka       Colombo                     2375.000000\n",
       "Turkey          Ankara                        87.250000\n",
       "                ÛÁstanbul                     81.428571\n",
       "UAE             Abu Dhabi                    182.000000\n",
       "                Dubai                        211.750000\n",
       "                Sharjah                      105.500000\n",
       "United Kingdom  Birmingham                    39.000000\n",
       "                Edinburgh                     38.500000\n",
       "                London                        64.500000\n",
       "                Manchester                    49.250000\n",
       "United States   Albany                        19.750000\n",
       "                Athens                        19.000000\n",
       "                Augusta                       27.000000\n",
       "                Boise                         27.250000\n",
       "                Cedar Rapids/Iowa City        25.750000\n",
       "                Clatskanie                    10.000000\n",
       "                Cochrane                      25.000000\n",
       "                Columbus                      26.750000\n",
       "                Dalton                        16.000000\n",
       "                Davenport                     25.250000\n",
       "                Des Moines                    28.000000\n",
       "                Dubuque                       23.750000\n",
       "                Fernley                       10.000000\n",
       "                Gainesville                   21.250000\n",
       "                Lakeview                      10.000000\n",
       "                Lincoln                       25.000000\n",
       "                Macon                         27.250000\n",
       "                Mc Millan                     10.000000\n",
       "                Miller                         0.000000\n",
       "                Monroe                        25.000000\n",
       "                Ojo Caliente                  40.000000\n",
       "                Orlando                       40.250000\n",
       "                Pensacola                     30.250000\n",
       "                Pocatello                     20.750000\n",
       "                Potrero                       25.000000\n",
       "                Princeton                     70.000000\n",
       "                Rest of Hawaii                31.750000\n",
       "                Savannah                      32.500000\n",
       "                Sioux City                    24.250000\n",
       "                Tampa Bay                     34.750000\n",
       "                Valdosta                      29.250000\n",
       "                Vernonia                      10.000000\n",
       "                Waterloo                      21.250000\n",
       "                Weirton                       25.000000\n",
       "                Winchester Bay                25.000000\n",
       "Name: Average Cost for two, dtype: float64"
      ]
     },
     "execution_count": 32,
     "metadata": {},
     "output_type": "execute_result"
    }
   ],
   "source": [
    "zomato_country.groupby(['Country', 'City'])['Average Cost for two'].mean()"
   ]
  },
  {
   "cell_type": "code",
   "execution_count": 30,
   "id": "e6a9017e",
   "metadata": {},
   "outputs": [
    {
     "name": "stdout",
     "output_type": "stream",
     "text": [
      "Average Cost for two persons is 1199.2107632708617\n"
     ]
    }
   ],
   "source": [
    "print(f\"Average Cost for two persons is {zomato_country['Average Cost for two'].mean()}\")"
   ]
  },
  {
   "cell_type": "markdown",
   "id": "3cf60dd1",
   "metadata": {},
   "source": [
    "13. What is the most liked Dish type?"
   ]
  },
  {
   "cell_type": "code",
   "execution_count": 31,
   "id": "e8fde8cd",
   "metadata": {},
   "outputs": [
    {
     "data": {
      "text/plain": [
       "'North Indian, Mughlai'"
      ]
     },
     "execution_count": 31,
     "metadata": {},
     "output_type": "execute_result"
    }
   ],
   "source": [
    "zomato_country.groupby('Cuisines')['Votes'].sum().idxmax()"
   ]
  },
  {
   "cell_type": "code",
   "execution_count": null,
   "id": "b457bd44",
   "metadata": {},
   "outputs": [],
   "source": []
  },
  {
   "cell_type": "code",
   "execution_count": null,
   "id": "c4cbf188",
   "metadata": {},
   "outputs": [],
   "source": []
  }
 ],
 "metadata": {
  "kernelspec": {
   "display_name": "Python 3 (ipykernel)",
   "language": "python",
   "name": "python3"
  },
  "language_info": {
   "codemirror_mode": {
    "name": "ipython",
    "version": 3
   },
   "file_extension": ".py",
   "mimetype": "text/x-python",
   "name": "python",
   "nbconvert_exporter": "python",
   "pygments_lexer": "ipython3",
   "version": "3.8.8"
  }
 },
 "nbformat": 4,
 "nbformat_minor": 5
}
