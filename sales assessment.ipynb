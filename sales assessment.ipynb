{
 "cells": [
  {
   "cell_type": "markdown",
   "id": "7f92ee25",
   "metadata": {},
   "source": [
    "# Sales\n",
    "\n",
    "By: Siny Pullukkara Raphel"
   ]
  },
  {
   "cell_type": "code",
   "execution_count": 1,
   "id": "68a06cc9",
   "metadata": {},
   "outputs": [],
   "source": [
    "import pandas as pd\n",
    "import numpy as np"
   ]
  },
  {
   "cell_type": "code",
   "execution_count": 2,
   "id": "90622b22",
   "metadata": {},
   "outputs": [],
   "source": [
    "sales = pd.read_csv('sales-data.csv', parse_dates=['Order Date'])"
   ]
  },
  {
   "cell_type": "code",
   "execution_count": 43,
   "id": "f4d4f013",
   "metadata": {},
   "outputs": [
    {
     "name": "stdout",
     "output_type": "stream",
     "text": [
      "<class 'pandas.core.frame.DataFrame'>\n",
      "RangeIndex: 185950 entries, 0 to 185949\n",
      "Data columns (total 9 columns):\n",
      " #   Column            Non-Null Count   Dtype         \n",
      "---  ------            --------------   -----         \n",
      " 0   Unnamed: 0        185950 non-null  int64         \n",
      " 1   Order ID          185950 non-null  int64         \n",
      " 2   Product           185950 non-null  object        \n",
      " 3   Quantity Ordered  185950 non-null  int64         \n",
      " 4   Price Each        185950 non-null  float64       \n",
      " 5   Order Date        185950 non-null  datetime64[ns]\n",
      " 6   Purchase Address  185950 non-null  object        \n",
      " 7   Month             185950 non-null  int64         \n",
      " 8   City              185950 non-null  object        \n",
      "dtypes: datetime64[ns](1), float64(1), int64(4), object(3)\n",
      "memory usage: 12.8+ MB\n"
     ]
    }
   ],
   "source": [
    "sales.info()"
   ]
  },
  {
   "cell_type": "code",
   "execution_count": 44,
   "id": "25ba81aa",
   "metadata": {},
   "outputs": [
    {
     "data": {
      "text/html": [
       "<div>\n",
       "<style scoped>\n",
       "    .dataframe tbody tr th:only-of-type {\n",
       "        vertical-align: middle;\n",
       "    }\n",
       "\n",
       "    .dataframe tbody tr th {\n",
       "        vertical-align: top;\n",
       "    }\n",
       "\n",
       "    .dataframe thead th {\n",
       "        text-align: right;\n",
       "    }\n",
       "</style>\n",
       "<table border=\"1\" class=\"dataframe\">\n",
       "  <thead>\n",
       "    <tr style=\"text-align: right;\">\n",
       "      <th></th>\n",
       "      <th>Unnamed: 0</th>\n",
       "      <th>Order ID</th>\n",
       "      <th>Product</th>\n",
       "      <th>Quantity Ordered</th>\n",
       "      <th>Price Each</th>\n",
       "      <th>Order Date</th>\n",
       "      <th>Purchase Address</th>\n",
       "      <th>Month</th>\n",
       "      <th>City</th>\n",
       "    </tr>\n",
       "  </thead>\n",
       "  <tbody>\n",
       "    <tr>\n",
       "      <th>0</th>\n",
       "      <td>0</td>\n",
       "      <td>176558</td>\n",
       "      <td>USB-C Charging Cable</td>\n",
       "      <td>2</td>\n",
       "      <td>11.95</td>\n",
       "      <td>2019-04-19 08:46:00</td>\n",
       "      <td>917 1st St, Dallas, TX 75001</td>\n",
       "      <td>4</td>\n",
       "      <td>Dallas  (TX)</td>\n",
       "    </tr>\n",
       "  </tbody>\n",
       "</table>\n",
       "</div>"
      ],
      "text/plain": [
       "   Unnamed: 0  Order ID               Product  Quantity Ordered  Price Each  \\\n",
       "0           0    176558  USB-C Charging Cable                 2       11.95   \n",
       "\n",
       "           Order Date              Purchase Address  Month          City  \n",
       "0 2019-04-19 08:46:00  917 1st St, Dallas, TX 75001      4  Dallas  (TX)  "
      ]
     },
     "execution_count": 44,
     "metadata": {},
     "output_type": "execute_result"
    }
   ],
   "source": [
    "sales.head(1)"
   ]
  },
  {
   "cell_type": "code",
   "execution_count": 3,
   "id": "c2199f8b",
   "metadata": {},
   "outputs": [
    {
     "data": {
      "text/html": [
       "<div>\n",
       "<style scoped>\n",
       "    .dataframe tbody tr th:only-of-type {\n",
       "        vertical-align: middle;\n",
       "    }\n",
       "\n",
       "    .dataframe tbody tr th {\n",
       "        vertical-align: top;\n",
       "    }\n",
       "\n",
       "    .dataframe thead th {\n",
       "        text-align: right;\n",
       "    }\n",
       "</style>\n",
       "<table border=\"1\" class=\"dataframe\">\n",
       "  <thead>\n",
       "    <tr style=\"text-align: right;\">\n",
       "      <th></th>\n",
       "      <th>Order ID</th>\n",
       "      <th>Product</th>\n",
       "      <th>Quantity Ordered</th>\n",
       "      <th>Price Each</th>\n",
       "      <th>Order Date</th>\n",
       "      <th>Purchase Address</th>\n",
       "      <th>Month</th>\n",
       "      <th>City</th>\n",
       "      <th>Sales</th>\n",
       "      <th>Order Hour</th>\n",
       "    </tr>\n",
       "  </thead>\n",
       "  <tbody>\n",
       "    <tr>\n",
       "      <th>0</th>\n",
       "      <td>176558</td>\n",
       "      <td>USB-C Charging Cable</td>\n",
       "      <td>2</td>\n",
       "      <td>11.95</td>\n",
       "      <td>2019-04-19 08:46:00</td>\n",
       "      <td>917 1st St, Dallas, TX 75001</td>\n",
       "      <td>4</td>\n",
       "      <td>Dallas  (TX)</td>\n",
       "      <td>23.90</td>\n",
       "      <td>8</td>\n",
       "    </tr>\n",
       "    <tr>\n",
       "      <th>1</th>\n",
       "      <td>176559</td>\n",
       "      <td>Bose SoundSport Headphones</td>\n",
       "      <td>1</td>\n",
       "      <td>99.99</td>\n",
       "      <td>2019-04-07 22:30:00</td>\n",
       "      <td>682 Chestnut St, Boston, MA 02215</td>\n",
       "      <td>4</td>\n",
       "      <td>Boston  (MA)</td>\n",
       "      <td>99.99</td>\n",
       "      <td>22</td>\n",
       "    </tr>\n",
       "    <tr>\n",
       "      <th>2</th>\n",
       "      <td>176560</td>\n",
       "      <td>Google Phone</td>\n",
       "      <td>1</td>\n",
       "      <td>600.00</td>\n",
       "      <td>2019-04-12 14:38:00</td>\n",
       "      <td>669 Spruce St, Los Angeles, CA 90001</td>\n",
       "      <td>4</td>\n",
       "      <td>Los Angeles  (CA)</td>\n",
       "      <td>600.00</td>\n",
       "      <td>14</td>\n",
       "    </tr>\n",
       "  </tbody>\n",
       "</table>\n",
       "</div>"
      ],
      "text/plain": [
       "   Order ID                     Product  Quantity Ordered  Price Each  \\\n",
       "0    176558        USB-C Charging Cable                 2       11.95   \n",
       "1    176559  Bose SoundSport Headphones                 1       99.99   \n",
       "2    176560                Google Phone                 1      600.00   \n",
       "\n",
       "           Order Date                      Purchase Address  Month  \\\n",
       "0 2019-04-19 08:46:00          917 1st St, Dallas, TX 75001      4   \n",
       "1 2019-04-07 22:30:00     682 Chestnut St, Boston, MA 02215      4   \n",
       "2 2019-04-12 14:38:00  669 Spruce St, Los Angeles, CA 90001      4   \n",
       "\n",
       "                City   Sales  Order Hour  \n",
       "0       Dallas  (TX)   23.90           8  \n",
       "1       Boston  (MA)   99.99          22  \n",
       "2  Los Angeles  (CA)  600.00          14  "
      ]
     },
     "execution_count": 3,
     "metadata": {},
     "output_type": "execute_result"
    }
   ],
   "source": [
    "sales['Sales'] = sales['Quantity Ordered'] * sales['Price Each']\n",
    "sales['Order Hour'] = sales['Order Date'].dt.hour\n",
    "sales.drop('Unnamed: 0', inplace=True, axis=1)\n",
    "sales.head(3)"
   ]
  },
  {
   "cell_type": "code",
   "execution_count": 22,
   "id": "b6068c2e",
   "metadata": {},
   "outputs": [
    {
     "data": {
      "text/plain": [
       "19"
      ]
     },
     "execution_count": 22,
     "metadata": {},
     "output_type": "execute_result"
    }
   ],
   "source": [
    "sales.Product.nunique()"
   ]
  },
  {
   "cell_type": "markdown",
   "id": "66d8a9d0",
   "metadata": {},
   "source": [
    "1. \tWhat was the best month for sales? How much was earned that month?\n"
   ]
  },
  {
   "cell_type": "code",
   "execution_count": 4,
   "id": "b7d98be2",
   "metadata": {},
   "outputs": [],
   "source": [
    "sales_month = sales.groupby('Month')['Sales'].sum()"
   ]
  },
  {
   "cell_type": "code",
   "execution_count": 16,
   "id": "5b1b03ba",
   "metadata": {},
   "outputs": [
    {
     "name": "stdout",
     "output_type": "stream",
     "text": [
      "Best month of sales was 12 and sales that month is $4613443.34\n"
     ]
    }
   ],
   "source": [
    "print(f\"Best month of sales was {sales_month.idxmax()} and sales that month is ${sales_month.max()}\")"
   ]
  },
  {
   "cell_type": "markdown",
   "id": "1cdf95d8",
   "metadata": {},
   "source": [
    "2. What city sold the most product?"
   ]
  },
  {
   "cell_type": "code",
   "execution_count": 24,
   "id": "83608023",
   "metadata": {},
   "outputs": [
    {
     "data": {
      "text/plain": [
       "'San Francisco  (CA)'"
      ]
     },
     "execution_count": 24,
     "metadata": {},
     "output_type": "execute_result"
    }
   ],
   "source": [
    "sales.groupby('City')['Quantity Ordered'].sum().idxmax()"
   ]
  },
  {
   "cell_type": "markdown",
   "id": "acd4c271",
   "metadata": {},
   "source": [
    "3. What time should we display advertisemens to maximize the likelihood of customer’s buying product?"
   ]
  },
  {
   "cell_type": "code",
   "execution_count": 53,
   "id": "f4bc6597",
   "metadata": {},
   "outputs": [
    {
     "data": {
      "text/plain": [
       "<AxesSubplot:xlabel='Order Hour'>"
      ]
     },
     "execution_count": 53,
     "metadata": {},
     "output_type": "execute_result"
    },
    {
     "data": {
      "image/png": "[encoded data removed]",
      "text/plain": [
       "<Figure size 432x288 with 1 Axes>"
      ]
     },
     "metadata": {
      "needs_background": "light"
     },
     "output_type": "display_data"
    }
   ],
   "source": [
    "# We are grouping with respect to hour of order and calculating the sum of quatities purchased\n",
    "sales.groupby('Order Hour')['Quantity Ordered'].sum().plot()"
   ]
  },
  {
   "cell_type": "code",
   "execution_count": 51,
   "id": "de280635",
   "metadata": {},
   "outputs": [
    {
     "data": {
      "text/plain": [
       "19"
      ]
     },
     "execution_count": 51,
     "metadata": {},
     "output_type": "execute_result"
    }
   ],
   "source": [
    "sales.groupby('Order Hour')['Quantity Ordered'].sum().idxmax()"
   ]
  },
  {
   "cell_type": "markdown",
   "id": "f39d7501",
   "metadata": {},
   "source": [
    "Items purchased between 7-8pm is highest. So advertising during that time might increase sales.\n",
    "\n",
    "If we analyse the graph sales are high from 10am to 8pm. We can also see that there is a peak on 11am and 7pm"
   ]
  },
  {
   "cell_type": "markdown",
   "id": "9830166d",
   "metadata": {},
   "source": [
    "4. What products are most often sold together?"
   ]
  },
  {
   "cell_type": "code",
   "execution_count": 31,
   "id": "34da697d",
   "metadata": {},
   "outputs": [],
   "source": [
    "#Let us see if we have unique orderid\n",
    "mul_orders = sales.groupby('Order ID')['Order ID'].count() > 1"
   ]
  },
  {
   "cell_type": "code",
   "execution_count": null,
   "id": "fe0cf759",
   "metadata": {},
   "outputs": [],
   "source": [
    "7136 orderids have more than one entries in the data"
   ]
  },
  {
   "cell_type": "code",
   "execution_count": 32,
   "id": "ef7d931a",
   "metadata": {},
   "outputs": [],
   "source": [
    "# get the orderids with multiple items\n",
    "mul_order_ids = mul_orders[mul_orders == True].index"
   ]
  },
  {
   "cell_type": "code",
   "execution_count": 33,
   "id": "ee484ec4",
   "metadata": {},
   "outputs": [
    {
     "data": {
      "text/plain": [
       "Int64Index([141275, 141290, 141365, 141384, 141450, 141457, 141478, 141550,\n",
       "            141587, 141645,\n",
       "            ...\n",
       "            319337, 319359, 319447, 319514, 319533, 319536, 319556, 319584,\n",
       "            319596, 319631],\n",
       "           dtype='int64', name='Order ID', length=7136)"
      ]
     },
     "execution_count": 33,
     "metadata": {},
     "output_type": "execute_result"
    }
   ],
   "source": [
    "mul_order_ids.unique()"
   ]
  },
  {
   "cell_type": "code",
   "execution_count": 34,
   "id": "827d90cf",
   "metadata": {},
   "outputs": [],
   "source": [
    "# create a dataframe with orderids and corresponding items of that order joined as string\n",
    "item_lst = pd.DataFrame(columns=['Id', 'Item_List'])\n",
    "for i in range(mul_order_ids.shape[0]):\n",
    "    item_lst.loc[i, 'Id'] = mul_order_ids[i]\n",
    "    item_lst.loc[i, 'Item_List'] = ', '.join(sales[sales['Order ID'] == mul_order_ids[i]]['Product'])\n",
    "#     print( (sales[sales['Order ID'] == mul_order_ids[i]]['Product']).to_list())"
   ]
  },
  {
   "cell_type": "code",
   "execution_count": 106,
   "id": "dc3a0fb7",
   "metadata": {
    "scrolled": true
   },
   "outputs": [
    {
     "data": {
      "text/plain": [
       "Item_List\n",
       "iPhone, Lightning Charging Cable                        882\n",
       "Google Phone, USB-C Charging Cable                      856\n",
       "iPhone, Wired Headphones                                361\n",
       "Vareebadd Phone, USB-C Charging Cable                   312\n",
       "Google Phone, Wired Headphones                          303\n",
       "                                                       ... \n",
       "LG Dryer, 27in FHD Monitor                                1\n",
       "LG Dryer, 27in 4K Gaming Monitor                          1\n",
       "Google Phone, Wired Headphones, USB-C Charging Cable      1\n",
       "Google Phone, Wired Headphones, Macbook Pro Laptop        1\n",
       "iPhone, iPhone                                            1\n",
       "Name: Item_List, Length: 366, dtype: int64"
      ]
     },
     "execution_count": 106,
     "metadata": {},
     "output_type": "execute_result"
    }
   ],
   "source": [
    "# groupby \"item list string\" and get the count of occurences\n",
    "item_lst.groupby('Item_List')['Item_List'].count().sort_values(ascending=False)"
   ]
  },
  {
   "cell_type": "code",
   "execution_count": 7,
   "id": "c38a0bf9",
   "metadata": {},
   "outputs": [
    {
     "data": {
      "text/plain": [
       "'iPhone, Lightning Charging Cable'"
      ]
     },
     "execution_count": 7,
     "metadata": {},
     "output_type": "execute_result"
    }
   ],
   "source": [
    "item_lst.groupby('Item_List')['Item_List'].count().sort_values(ascending=False).idxmax()"
   ]
  },
  {
   "cell_type": "markdown",
   "id": "7f8bc2c1",
   "metadata": {},
   "source": [
    "The combination of iphone and lightening charging cable are sold most"
   ]
  },
  {
   "cell_type": "markdown",
   "id": "5f0d29a1",
   "metadata": {},
   "source": [
    "Alternate"
   ]
  },
  {
   "cell_type": "code",
   "execution_count": 30,
   "id": "906e5f68",
   "metadata": {
    "scrolled": true
   },
   "outputs": [
    {
     "data": {
      "text/plain": [
       "3         176560\n",
       "18        176574\n",
       "30        176585\n",
       "32        176586\n",
       "119       176672\n",
       "           ...  \n",
       "185885    259297\n",
       "185886    259297\n",
       "185893    259303\n",
       "185905    259314\n",
       "185942    259350\n",
       "Name: Order ID, Length: 7513, dtype: int64"
      ]
     },
     "execution_count": 30,
     "metadata": {},
     "output_type": "execute_result"
    }
   ],
   "source": [
    "# Alternate\n",
    "sales[sales['Order ID'].duplicated()]['Order ID']\n"
   ]
  },
  {
   "cell_type": "markdown",
   "id": "e2f47f40",
   "metadata": {},
   "source": [
    "5. What product sold the most? Why do you think it sold the most"
   ]
  },
  {
   "cell_type": "code",
   "execution_count": 28,
   "id": "f63c30d3",
   "metadata": {},
   "outputs": [
    {
     "data": {
      "text/plain": [
       "'AAA Batteries (4-pack)'"
      ]
     },
     "execution_count": 28,
     "metadata": {},
     "output_type": "execute_result"
    }
   ],
   "source": [
    "sales.groupby('Product')['Quantity Ordered'].sum().idxmax()"
   ]
  },
  {
   "cell_type": "markdown",
   "id": "6f89ac08",
   "metadata": {},
   "source": [
    "Batteries are sold most. Since it is essential to run appliances that we use in our day to day life. We do not buy big electronics like desktop or tv or phones everyday."
   ]
  },
  {
   "cell_type": "code",
   "execution_count": null,
   "id": "1b32853b",
   "metadata": {},
   "outputs": [],
   "source": []
  }
 ],
 "metadata": {
  "kernelspec": {
   "display_name": "Python 3 (ipykernel)",
   "language": "python",
   "name": "python3"
  },
  "language_info": {
   "codemirror_mode": {
    "name": "ipython",
    "version": 3
   },
   "file_extension": ".py",
   "mimetype": "text/x-python",
   "name": "python",
   "nbconvert_exporter": "python",
   "pygments_lexer": "ipython3",
   "version": "3.8.8"
  }
 },
 "nbformat": 4,
 "nbformat_minor": 5
}
