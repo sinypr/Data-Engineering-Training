{
 "cells": [
  {
   "cell_type": "markdown",
   "id": "bbae09a6",
   "metadata": {},
   "source": [
    "# Sales in Hive\n",
    "\n",
    "Siny P Raphel"
   ]
  },
  {
   "cell_type": "markdown",
   "id": "ab3aad73",
   "metadata": {},
   "source": [
    "## Load Data in hive table"
   ]
  },
  {
   "cell_type": "markdown",
   "id": "b4a6fd06",
   "metadata": {},
   "source": [
    "```create table sales (unnamed int, order_id int, product varchar(250), quantity int, price_each float,order_date date, purchase_address varchar(500), month int, city varchar(100))\n",
    "row format delimited\n",
    "fields terminated by ','\n",
    "lines terminated by '\\n'\n",
    "stored as textfile\n",
    "tblproperties (\"skip.header.line.count\"=\"1\"); ```"
   ]
  },
  {
   "cell_type": "markdown",
   "id": "a977748d",
   "metadata": {},
   "source": [
    "```load data local inpath '/root/sales-data.csv' into table sales; ```\n",
    "\n",
    "#load data from root to sales table\n",
    "\n"
   ]
  },
  {
   "cell_type": "markdown",
   "id": "8f5051d1",
   "metadata": {},
   "source": [
    "There was no way to create a column and fill values to it. Therefore created a new tble with the select statement as shown below. New columns sales and hour is added. There was error in converting order_date to datetime format. So changed data type using multiple functions."
   ]
  },
  {
   "cell_type": "markdown",
   "id": "aa6ea4d5",
   "metadata": {},
   "source": [
    "```create table sales1 as \n",
    "select order_id, product, quantity, price_each, \n",
    "from_unixtime(unix_timestamp(order_date, 'mm/dd/yy HH:MM'), 'mm/dd/yy HH:MM') as order_date, \n",
    "purchase_address, month, city, \n",
    "price_each * quantity as sales,\n",
    "from_unixtime(unix_timestamp(order_date, 'mm/dd/yy HH:MM'), 'H') as hour\n",
    "from sales_data;```"
   ]
  },
  {
   "cell_type": "markdown",
   "id": "807d551f",
   "metadata": {},
   "source": [
    "###  What was the best month for sales? How much was earned that month?"
   ]
  },
  {
   "cell_type": "markdown",
   "id": "bc1c5f99",
   "metadata": {},
   "source": [
    "```select month, sum(sales) as total_sales\n",
    "from sales1\n",
    "group by month\n",
    "order by total_sales desc\n",
    "limit 1;```"
   ]
  },
  {
   "cell_type": "markdown",
   "id": "16083c87",
   "metadata": {},
   "source": [
    "### What city sold the most product?"
   ]
  },
  {
   "cell_type": "markdown",
   "id": "b6f7f64f",
   "metadata": {},
   "source": [
    "```select city, sum(quantity) as total\n",
    "from sales1\n",
    "group by city\n",
    "order by total desc\n",
    "limit 1;```"
   ]
  },
  {
   "cell_type": "markdown",
   "id": "fe7c99e9",
   "metadata": {},
   "source": [
    "### What time should we display advertisemens to maximize the likelihood of customer’s buying product?"
   ]
  },
  {
   "cell_type": "markdown",
   "id": "7ea6eba2",
   "metadata": {},
   "source": [
    "```select hour, sum(quantity) as total\n",
    "from sales1\n",
    "group by hour\n",
    "order by total desc\n",
    "limit 1;```"
   ]
  },
  {
   "cell_type": "markdown",
   "id": "a3ce2cb9",
   "metadata": {},
   "source": [
    "### What products are most often sold together?"
   ]
  },
  {
   "cell_type": "markdown",
   "id": "06e44d6e",
   "metadata": {},
   "source": [
    "The following code concats all the products within each order_id and returns order_id, concatenated product and count"
   ]
  },
  {
   "cell_type": "markdown",
   "id": "d0c32887",
   "metadata": {},
   "source": [
    "```SELECT order_id, CONCAT_WS(',',collect_set(product)) AS prd, count(order_id) as ct\n",
    "FROM sales1\n",
    "GROUP BY order_id\n",
    "having ct >1;```"
   ]
  },
  {
   "cell_type": "markdown",
   "id": "ce43b441",
   "metadata": {},
   "source": [
    "The above query is used as a subquery "
   ]
  },
  {
   "cell_type": "markdown",
   "id": "88236b6c",
   "metadata": {},
   "source": [
    "```select prd, count(prd) as prd_ct\n",
    "from (SELECT order_id, CONCAT_WS(',',collect_set(product)) AS prd, count(order_id) as ct\n",
    "FROM sales1\n",
    "GROUP BY order_id\n",
    "having ct >1) as orders\n",
    "group by prd\n",
    "order by prd_ct desc\n",
    "limit 1;```"
   ]
  },
  {
   "cell_type": "markdown",
   "id": "11b07edf",
   "metadata": {},
   "source": [
    "### What product sold the most? Why do you think it sold the most?"
   ]
  },
  {
   "cell_type": "markdown",
   "id": "625bd690",
   "metadata": {},
   "source": [
    "```select product, sum(quantity) as total\n",
    "from sales1\n",
    "group by product\n",
    "order by total desc\n",
    "limit 1;```"
   ]
  }
 ],
 "metadata": {
  "kernelspec": {
   "display_name": "Python 3 (ipykernel)",
   "language": "python",
   "name": "python3"
  },
  "language_info": {
   "codemirror_mode": {
    "name": "ipython",
    "version": 3
   },
   "file_extension": ".py",
   "mimetype": "text/x-python",
   "name": "python",
   "nbconvert_exporter": "python",
   "pygments_lexer": "ipython3",
   "version": "3.8.8"
  }
 },
 "nbformat": 4,
 "nbformat_minor": 5
}
